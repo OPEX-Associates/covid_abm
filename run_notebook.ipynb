{
 "cells": [
  {
   "cell_type": "code",
   "execution_count": null,
   "metadata": {},
   "outputs": [],
   "source": [
    "from covid_mode import CovidModel\n",
    "import matplotlib.pyplot as plt\n",
    "import seaborn as sns\n",
    "\n",
    "model = CovidModel(100, 10, 10)\n",
    "\n",
    "for i in range(100):\n",
    "    model.step()\n",
    "\n",
    "# Convert data to a DataFrame\n",
    "data = model.datacollector.get_agent_vars_dataframe()\n",
    "\n",
    "# Display the first few rows\n",
    "print(data.head())\n",
    "\n",
    "\n",
    "\n",
    "# Count the number of agents in each state at each step\n",
    "state_counts = data.reset_index().groupby([\"Step\", \"State\"]).size().unstack().fillna(0)\n",
    "\n",
    "# Plot the data\n",
    "state_counts.plot()\n",
    "plt.xlabel(\"Step\")\n",
    "plt.ylabel(\"Number of Agents\")\n",
    "plt.title(\"COVID-19 Propagation\")\n",
    "plt.show()"
   ]
  }
 ],
 "metadata": {
  "kernelspec": {
   "display_name": "Python 3",
   "language": "python",
   "name": "python3"
  },
  "language_info": {
   "name": "python",
   "version": "3.12.3"
  }
 },
 "nbformat": 4,
 "nbformat_minor": 2
}
